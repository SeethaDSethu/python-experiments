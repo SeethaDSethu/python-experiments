{
 "cells": [
  {
   "cell_type": "code",
   "execution_count": 1,
   "metadata": {},
   "outputs": [],
   "source": [
    "import pandas as pd\n",
    "import numpy as np\n",
    "import matplotlib.pyplot as plt\n"
   ]
  },
  {
   "cell_type": "code",
   "execution_count": 2,
   "metadata": {},
   "outputs": [],
   "source": [
    "data = pd.read_csv(\"MovieMetadata.csv\")"
   ]
  },
  {
   "cell_type": "code",
   "execution_count": 3,
   "metadata": {},
   "outputs": [
    {
     "ename": "AttributeError",
     "evalue": "'DataFrame' object has no attribute 'ix'",
     "output_type": "error",
     "traceback": [
      "\u001b[1;31m---------------------------------------------------------------------------\u001b[0m",
      "\u001b[1;31mAttributeError\u001b[0m                            Traceback (most recent call last)",
      "\u001b[1;32m<ipython-input-3-a44c5a1e8312>\u001b[0m in \u001b[0;36m<module>\u001b[1;34m\u001b[0m\n\u001b[1;32m----> 1\u001b[1;33m data_use = data.ix[:,['genres','plot_keywords','movie_title','actor_1_name',\n\u001b[0m\u001b[0;32m      2\u001b[0m                       'actor_2_name','actor_3_name','director_name','imdb_score']]\n\u001b[0;32m      3\u001b[0m \u001b[1;33m\u001b[0m\u001b[0m\n\u001b[0;32m      4\u001b[0m \u001b[0mdata_use\u001b[0m\u001b[1;33m[\u001b[0m\u001b[1;34m'movie_title'\u001b[0m\u001b[1;33m]\u001b[0m \u001b[1;33m=\u001b[0m \u001b[1;33m[\u001b[0m\u001b[0mi\u001b[0m\u001b[1;33m.\u001b[0m\u001b[0mreplace\u001b[0m\u001b[1;33m(\u001b[0m\u001b[1;34m\"\\xa0\"\u001b[0m\u001b[1;33m,\u001b[0m\u001b[1;34m\"\"\u001b[0m\u001b[1;33m)\u001b[0m \u001b[1;32mfor\u001b[0m \u001b[0mi\u001b[0m \u001b[1;32min\u001b[0m \u001b[0mlist\u001b[0m\u001b[1;33m(\u001b[0m\u001b[0mdata_use\u001b[0m\u001b[1;33m[\u001b[0m\u001b[1;34m'movie_title'\u001b[0m\u001b[1;33m]\u001b[0m\u001b[1;33m)\u001b[0m\u001b[1;33m]\u001b[0m\u001b[1;33m\u001b[0m\u001b[1;33m\u001b[0m\u001b[0m\n",
      "\u001b[1;32mC:\\Anaconda\\lib\\site-packages\\pandas\\core\\generic.py\u001b[0m in \u001b[0;36m__getattr__\u001b[1;34m(self, name)\u001b[0m\n\u001b[0;32m   5272\u001b[0m             \u001b[1;32mif\u001b[0m \u001b[0mself\u001b[0m\u001b[1;33m.\u001b[0m\u001b[0m_info_axis\u001b[0m\u001b[1;33m.\u001b[0m\u001b[0m_can_hold_identifiers_and_holds_name\u001b[0m\u001b[1;33m(\u001b[0m\u001b[0mname\u001b[0m\u001b[1;33m)\u001b[0m\u001b[1;33m:\u001b[0m\u001b[1;33m\u001b[0m\u001b[1;33m\u001b[0m\u001b[0m\n\u001b[0;32m   5273\u001b[0m                 \u001b[1;32mreturn\u001b[0m \u001b[0mself\u001b[0m\u001b[1;33m[\u001b[0m\u001b[0mname\u001b[0m\u001b[1;33m]\u001b[0m\u001b[1;33m\u001b[0m\u001b[1;33m\u001b[0m\u001b[0m\n\u001b[1;32m-> 5274\u001b[1;33m             \u001b[1;32mreturn\u001b[0m \u001b[0mobject\u001b[0m\u001b[1;33m.\u001b[0m\u001b[0m__getattribute__\u001b[0m\u001b[1;33m(\u001b[0m\u001b[0mself\u001b[0m\u001b[1;33m,\u001b[0m \u001b[0mname\u001b[0m\u001b[1;33m)\u001b[0m\u001b[1;33m\u001b[0m\u001b[1;33m\u001b[0m\u001b[0m\n\u001b[0m\u001b[0;32m   5275\u001b[0m \u001b[1;33m\u001b[0m\u001b[0m\n\u001b[0;32m   5276\u001b[0m     \u001b[1;32mdef\u001b[0m \u001b[0m__setattr__\u001b[0m\u001b[1;33m(\u001b[0m\u001b[0mself\u001b[0m\u001b[1;33m,\u001b[0m \u001b[0mname\u001b[0m\u001b[1;33m:\u001b[0m \u001b[0mstr\u001b[0m\u001b[1;33m,\u001b[0m \u001b[0mvalue\u001b[0m\u001b[1;33m)\u001b[0m \u001b[1;33m->\u001b[0m \u001b[1;32mNone\u001b[0m\u001b[1;33m:\u001b[0m\u001b[1;33m\u001b[0m\u001b[1;33m\u001b[0m\u001b[0m\n",
      "\u001b[1;31mAttributeError\u001b[0m: 'DataFrame' object has no attribute 'ix'"
     ]
    }
   ],
   "source": [
    "data_use = data.ix[:,['genres','plot_keywords','movie_title','actor_1_name',\n",
    "                      'actor_2_name','actor_3_name','director_name','imdb_score']]\n",
    "\n",
    "data_use['movie_title'] = [i.replace(\"\\xa0\",\"\") for i in list(data_use['movie_title'])]"
   ]
  },
  {
   "cell_type": "code",
   "execution_count": 4,
   "metadata": {},
   "outputs": [
    {
     "name": "stdout",
     "output_type": "stream",
     "text": [
      "(5043, 8)\n",
      "(4781, 8)\n",
      "(4659, 8)\n"
     ]
    }
   ],
   "source": [
    "print(data_use.shape)\n",
    "clean_data = data_use.dropna(axis = 0)\n",
    "print(clean_data.shape)\n",
    "clean_data = clean_data.drop_duplicates(['movie_title'])\n",
    "clean_data = clean_data.reset_index(drop=True)\n",
    "print(clean_data.shape)"
   ]
  },
  {
   "cell_type": "code",
   "execution_count": 11,
   "metadata": {},
   "outputs": [
    {
     "name": "stdout",
     "output_type": "stream",
     "text": [
      "0       CCH_Pounder|Joel_David_Moore|Wes_Studi|James_C...\n",
      "1       Johnny_Depp|Orlando_Bloom|Jack_Davenport|Gore_...\n",
      "2       Christoph_Waltz|Rory_Kinnear|Stephanie_Sigman|...\n",
      "3       Tom_Hardy|Christian_Bale|Joseph_Gordon-Levitt|...\n",
      "4       Daryl_Sabara|Samantha_Morton|Polly_Walker|Andr...\n",
      "                              ...                        \n",
      "4654    Carlos_Gallardo|Peter_Marquardt|Consuelo_Gómez...\n",
      "4655    Richard_Jewell|John_Considine|Sara_Stepnicka|A...\n",
      "4656    Kerry_Bishé|Caitlin_FitzGerald|Daniella_Pineda...\n",
      "4657    Eric_Mabius|Daphne_Zuniga|Crystal_Lowe|Scott_S...\n",
      "4658       John_August|Brian_Herzlinger|Jon_Gunn|Jon_Gunn\n",
      "Name: people, Length: 4659, dtype: object\n"
     ]
    },
    {
     "name": "stderr",
     "output_type": "stream",
     "text": [
      "C:\\Users\\DHEVI\\Anaconda3\\lib\\site-packages\\ipykernel_launcher.py:3: FutureWarning: \n",
      ".ix is deprecated. Please use\n",
      ".loc for label based indexing or\n",
      ".iloc for positional indexing\n",
      "\n",
      "See the documentation here:\n",
      "http://pandas.pydata.org/pandas-docs/stable/user_guide/indexing.html#ix-indexer-is-deprecated\n",
      "  This is separate from the ipykernel package so we can avoid doing imports until\n",
      "C:\\Users\\DHEVI\\Anaconda3\\lib\\site-packages\\ipykernel_launcher.py:4: FutureWarning: \n",
      ".ix is deprecated. Please use\n",
      ".loc for label based indexing or\n",
      ".iloc for positional indexing\n",
      "\n",
      "See the documentation here:\n",
      "http://pandas.pydata.org/pandas-docs/stable/user_guide/indexing.html#ix-indexer-is-deprecated\n",
      "  after removing the cwd from sys.path.\n",
      "C:\\Users\\DHEVI\\Anaconda3\\lib\\site-packages\\ipykernel_launcher.py:5: FutureWarning: \n",
      ".ix is deprecated. Please use\n",
      ".loc for label based indexing or\n",
      ".iloc for positional indexing\n",
      "\n",
      "See the documentation here:\n",
      "http://pandas.pydata.org/pandas-docs/stable/user_guide/indexing.html#ix-indexer-is-deprecated\n",
      "  \"\"\"\n",
      "C:\\Users\\DHEVI\\Anaconda3\\lib\\site-packages\\ipykernel_launcher.py:6: FutureWarning: \n",
      ".ix is deprecated. Please use\n",
      ".loc for label based indexing or\n",
      ".iloc for positional indexing\n",
      "\n",
      "See the documentation here:\n",
      "http://pandas.pydata.org/pandas-docs/stable/user_guide/indexing.html#ix-indexer-is-deprecated\n",
      "  \n"
     ]
    }
   ],
   "source": [
    "people_list = []\n",
    "for i in range(clean_data.shape[0]):\n",
    "    name1 = clean_data.ix[i,'actor_1_name'].replace(\" \",\"_\")\n",
    "    name2 = clean_data.ix[i,'actor_2_name'].replace(\" \",\"_\")\n",
    "    name3 = clean_data.ix[i,'actor_3_name'].replace(\" \",\"_\")\n",
    "    name4 = clean_data.ix[i,'director_name'].replace(\" \",\"_\")\n",
    "    people_list.append(\"|\".join([name1,name2,name3,name4]))\n",
    "clean_data['people'] = people_list\n",
    "print(clean_data['people'] )"
   ]
  },
  {
   "cell_type": "code",
   "execution_count": 6,
   "metadata": {},
   "outputs": [],
   "source": [
    "from sklearn.feature_extraction.text import CountVectorizer\n",
    "\n",
    "def token(text):\n",
    "    return(text.split(\"|\"))\n",
    "\n",
    "\n",
    "cv_kw=CountVectorizer(max_features=100,tokenizer=token )\n",
    "keywords = cv_kw.fit_transform(clean_data[\"plot_keywords\"])\n",
    "keywords_list = [\"kw_\" + i for i in cv_kw.get_feature_names()]\n",
    "\n",
    "cv_ge=CountVectorizer(tokenizer=token )\n",
    "genres = cv_ge.fit_transform(clean_data[\"genres\"])\n",
    "genres_list = [\"genres_\"+ i for i in cv_ge.get_feature_names()]\n",
    "\n",
    "cv_pp=CountVectorizer(max_features=100,tokenizer=token )\n",
    "people = cv_pp.fit_transform(clean_data[\"people\"])\n",
    "people_list = [\"pp_\"+ i for i in cv_pp.get_feature_names()]\n",
    "\n",
    "cluster_data = np.hstack([keywords.todense(),genres.todense(),people.todense()*2])\n",
    "criterion_list = keywords_list+genres_list+people_list"
   ]
  },
  {
   "cell_type": "code",
   "execution_count": 20,
   "metadata": {},
   "outputs": [
    {
     "name": "stdout",
     "output_type": "stream",
     "text": [
      "                                          category\n",
      "movie_title                                       \n",
      "Avatar                                          15\n",
      "Pirates of the Caribbean: At World's End        91\n",
      "Spectre                                          7\n",
      "The Dark Knight Rises                            7\n",
      "John Carter                                     15\n",
      "...                                            ...\n",
      "El Mariachi                                     92\n",
      "The Mongol King                                  8\n",
      "Newlyweds                                       46\n",
      "Signed Sealed Delivered                         46\n",
      "My Date with Drew                               19\n",
      "\n",
      "[4659 rows x 1 columns]\n"
     ]
    }
   ],
   "source": [
    "from sklearn.cluster import KMeans\n",
    "\n",
    "mod = KMeans(n_clusters=100)\n",
    "category = mod.fit_predict(cluster_data)\n",
    "category_dataframe = pd.DataFrame({\"category\":category},index = clean_data['movie_title'])\n",
    "print(category_dataframe)"
   ]
  },
  {
   "cell_type": "code",
   "execution_count": 8,
   "metadata": {},
   "outputs": [
    {
     "name": "stderr",
     "output_type": "stream",
     "text": [
      "C:\\Users\\DHEVI\\Anaconda3\\lib\\site-packages\\ipykernel_launcher.py:1: FutureWarning: \n",
      ".ix is deprecated. Please use\n",
      ".loc for label based indexing or\n",
      ".iloc for positional indexing\n",
      "\n",
      "See the documentation here:\n",
      "http://pandas.pydata.org/pandas-docs/stable/user_guide/indexing.html#ix-indexer-is-deprecated\n",
      "  \"\"\"Entry point for launching an IPython kernel.\n",
      "C:\\Users\\DHEVI\\Anaconda3\\lib\\site-packages\\pandas\\core\\indexing.py:822: FutureWarning: \n",
      ".ix is deprecated. Please use\n",
      ".loc for label based indexing or\n",
      ".iloc for positional indexing\n",
      "\n",
      "See the documentation here:\n",
      "http://pandas.pydata.org/pandas-docs/stable/user_guide/indexing.html#ix-indexer-is-deprecated\n",
      "  retval = getattr(retval, self.name)._getitem_axis(key, axis=i)\n"
     ]
    },
    {
     "data": {
      "text/html": [
       "<div>\n",
       "<style scoped>\n",
       "    .dataframe tbody tr th:only-of-type {\n",
       "        vertical-align: middle;\n",
       "    }\n",
       "\n",
       "    .dataframe tbody tr th {\n",
       "        vertical-align: top;\n",
       "    }\n",
       "\n",
       "    .dataframe thead th {\n",
       "        text-align: right;\n",
       "    }\n",
       "</style>\n",
       "<table border=\"1\" class=\"dataframe\">\n",
       "  <thead>\n",
       "    <tr style=\"text-align: right;\">\n",
       "      <th></th>\n",
       "      <th>genres</th>\n",
       "      <th>movie_title</th>\n",
       "      <th>people</th>\n",
       "    </tr>\n",
       "  </thead>\n",
       "  <tbody>\n",
       "    <tr>\n",
       "      <td>40</td>\n",
       "      <td>Adventure|Animation|Comedy|Family|Sport</td>\n",
       "      <td>Cars 2</td>\n",
       "      <td>Joe_Mantegna|Thomas_Kretschmann|Eddie_Izzard|J...</td>\n",
       "    </tr>\n",
       "    <tr>\n",
       "      <td>57</td>\n",
       "      <td>Adventure|Animation|Family|Sci-Fi</td>\n",
       "      <td>WALL·E</td>\n",
       "      <td>John_Ratzenberger|Fred_Willard|Jeff_Garlin|And...</td>\n",
       "    </tr>\n",
       "    <tr>\n",
       "      <td>66</td>\n",
       "      <td>Adventure|Animation|Comedy|Family</td>\n",
       "      <td>Up</td>\n",
       "      <td>John_Ratzenberger|Delroy_Lindo|Jess_Harnell|Pe...</td>\n",
       "    </tr>\n",
       "    <tr>\n",
       "      <td>67</td>\n",
       "      <td>Action|Adventure|Animation|Comedy|Family|Sci-Fi</td>\n",
       "      <td>Monsters vs. Aliens</td>\n",
       "      <td>Amy_Poehler|Rainn_Wilson|Stephen_Colbert|Rob_L...</td>\n",
       "    </tr>\n",
       "    <tr>\n",
       "      <td>88</td>\n",
       "      <td>Action|Adventure|Animation|Comedy|Drama|Family...</td>\n",
       "      <td>Big Hero 6</td>\n",
       "      <td>Damon_Wayans_Jr.|Daniel_Henney|Abraham_Benrubi...</td>\n",
       "    </tr>\n",
       "    <tr>\n",
       "      <td>...</td>\n",
       "      <td>...</td>\n",
       "      <td>...</td>\n",
       "      <td>...</td>\n",
       "    </tr>\n",
       "    <tr>\n",
       "      <td>3365</td>\n",
       "      <td>Adventure|Animation|Family</td>\n",
       "      <td>Snow Queen</td>\n",
       "      <td>Erin_Fitzgerald|Wendee_Lee|Ivan_Okhlobystin|Vl...</td>\n",
       "    </tr>\n",
       "    <tr>\n",
       "      <td>3540</td>\n",
       "      <td>Animation|Comedy|Family</td>\n",
       "      <td>Doug's 1st Movie</td>\n",
       "      <td>Frank_Welker|Constance_Shulman|Alice_Playten|M...</td>\n",
       "    </tr>\n",
       "    <tr>\n",
       "      <td>3621</td>\n",
       "      <td>Animation|Family</td>\n",
       "      <td>Henry &amp; Me</td>\n",
       "      <td>Chazz_Palminteri|Cyndi_Lauper|Danny_Aiello|Bar...</td>\n",
       "    </tr>\n",
       "    <tr>\n",
       "      <td>4184</td>\n",
       "      <td>Adventure|Comedy|Family</td>\n",
       "      <td>Batman: The Movie</td>\n",
       "      <td>Burgess_Meredith|Cesar_Romero|Burt_Ward|Leslie...</td>\n",
       "    </tr>\n",
       "    <tr>\n",
       "      <td>4580</td>\n",
       "      <td>Animation|Comedy|Family</td>\n",
       "      <td>A Charlie Brown Christmas</td>\n",
       "      <td>Peter_Robbins|Bill_Melendez|Christopher_Shea|B...</td>\n",
       "    </tr>\n",
       "  </tbody>\n",
       "</table>\n",
       "<p>96 rows × 3 columns</p>\n",
       "</div>"
      ],
      "text/plain": [
       "                                                 genres  \\\n",
       "40              Adventure|Animation|Comedy|Family|Sport   \n",
       "57                    Adventure|Animation|Family|Sci-Fi   \n",
       "66                    Adventure|Animation|Comedy|Family   \n",
       "67      Action|Adventure|Animation|Comedy|Family|Sci-Fi   \n",
       "88    Action|Adventure|Animation|Comedy|Drama|Family...   \n",
       "...                                                 ...   \n",
       "3365                         Adventure|Animation|Family   \n",
       "3540                            Animation|Comedy|Family   \n",
       "3621                                   Animation|Family   \n",
       "4184                            Adventure|Comedy|Family   \n",
       "4580                            Animation|Comedy|Family   \n",
       "\n",
       "                    movie_title  \\\n",
       "40                       Cars 2   \n",
       "57                       WALL·E   \n",
       "66                           Up   \n",
       "67          Monsters vs. Aliens   \n",
       "88                   Big Hero 6   \n",
       "...                         ...   \n",
       "3365                 Snow Queen   \n",
       "3540           Doug's 1st Movie   \n",
       "3621                 Henry & Me   \n",
       "4184          Batman: The Movie   \n",
       "4580  A Charlie Brown Christmas   \n",
       "\n",
       "                                                 people  \n",
       "40    Joe_Mantegna|Thomas_Kretschmann|Eddie_Izzard|J...  \n",
       "57    John_Ratzenberger|Fred_Willard|Jeff_Garlin|And...  \n",
       "66    John_Ratzenberger|Delroy_Lindo|Jess_Harnell|Pe...  \n",
       "67    Amy_Poehler|Rainn_Wilson|Stephen_Colbert|Rob_L...  \n",
       "88    Damon_Wayans_Jr.|Daniel_Henney|Abraham_Benrubi...  \n",
       "...                                                 ...  \n",
       "3365  Erin_Fitzgerald|Wendee_Lee|Ivan_Okhlobystin|Vl...  \n",
       "3540  Frank_Welker|Constance_Shulman|Alice_Playten|M...  \n",
       "3621  Chazz_Palminteri|Cyndi_Lauper|Danny_Aiello|Bar...  \n",
       "4184  Burgess_Meredith|Cesar_Romero|Burt_Ward|Leslie...  \n",
       "4580  Peter_Robbins|Bill_Melendez|Christopher_Shea|B...  \n",
       "\n",
       "[96 rows x 3 columns]"
      ]
     },
     "execution_count": 8,
     "metadata": {},
     "output_type": "execute_result"
    }
   ],
   "source": [
    "clean_data.ix[list(category_dataframe['category'] == 0),['genres','movie_title','people']]"
   ]
  },
  {
   "cell_type": "code",
   "execution_count": 9,
   "metadata": {},
   "outputs": [],
   "source": [
    "def recommend(movie_name,recommend_number = 5):\n",
    "    if movie_name in list(clean_data['movie_title']):\n",
    "        movie_cluster = category_dataframe.ix[movie_name,'category']\n",
    "        score = clean_data.ix[list(category_dataframe['category'] == movie_cluster),['imdb_score','movie_title']]\n",
    "        sort_score = score.sort_values(['imdb_score'],ascending=[0])\n",
    "        sort_score = sort_score[sort_score['movie_title'] != movie_name]\n",
    "        recommend_number = min(sort_score.shape[0],recommend_number)\n",
    "        recommend_movie = list(sort_score.iloc[range(recommend_number),1])\n",
    "        print(recommend_movie)\n",
    "    else:\n",
    "        print(\"Can't find this movie!\")"
   ]
  },
  {
   "cell_type": "code",
   "execution_count": 19,
   "metadata": {},
   "outputs": [
    {
     "name": "stdout",
     "output_type": "stream",
     "text": [
      "['A Charlie Brown Christmas', 'WALL·E', 'Up', 'Finding Nemo', 'The Incredibles', 'Big Hero 6', 'Fantastic Mr. Fox', 'Wreck-It Ralph', 'The Muppet Movie', 'Kung Fu Panda']\n"
     ]
    },
    {
     "name": "stderr",
     "output_type": "stream",
     "text": [
      "C:\\Users\\DHEVI\\Anaconda3\\lib\\site-packages\\ipykernel_launcher.py:3: FutureWarning: \n",
      ".ix is deprecated. Please use\n",
      ".loc for label based indexing or\n",
      ".iloc for positional indexing\n",
      "\n",
      "See the documentation here:\n",
      "http://pandas.pydata.org/pandas-docs/stable/user_guide/indexing.html#ix-indexer-is-deprecated\n",
      "  This is separate from the ipykernel package so we can avoid doing imports until\n",
      "C:\\Users\\DHEVI\\Anaconda3\\lib\\site-packages\\ipykernel_launcher.py:4: FutureWarning: \n",
      ".ix is deprecated. Please use\n",
      ".loc for label based indexing or\n",
      ".iloc for positional indexing\n",
      "\n",
      "See the documentation here:\n",
      "http://pandas.pydata.org/pandas-docs/stable/user_guide/indexing.html#ix-indexer-is-deprecated\n",
      "  after removing the cwd from sys.path.\n"
     ]
    }
   ],
   "source": [
    "recommend('Despicable Me',10)"
   ]
  }
 ],
 "metadata": {
  "kernelspec": {
   "display_name": "Python 3",
   "language": "python",
   "name": "python3"
  },
  "language_info": {
   "codemirror_mode": {
    "name": "ipython",
    "version": 3
   },
   "file_extension": ".py",
   "mimetype": "text/x-python",
   "name": "python",
   "nbconvert_exporter": "python",
   "pygments_lexer": "ipython3",
   "version": "3.7.6"
  }
 },
 "nbformat": 4,
 "nbformat_minor": 2
}
